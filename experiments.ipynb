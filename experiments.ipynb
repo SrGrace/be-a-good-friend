{
 "cells": [
  {
   "cell_type": "code",
   "execution_count": 1,
   "id": "abb6df63",
   "metadata": {},
   "outputs": [
    {
     "name": "stdout",
     "output_type": "stream",
     "text": [
      "FetchedTranscript(snippets=[FetchedTranscriptSnippet(text='नदी के किनारे जलती आंख की लपटें मंद', start=4.72, duration=7.039), FetchedTranscriptSnippet(text='रोशनी फैला रही थी। विनोद थक कर चुप था।', start=7.839, duration=7.281), FetchedTranscriptSnippet(text='उसकी आंखें भोजल थी लेकिन पूरी तरह बंद', start=11.759, duration=6.961), FetchedTranscriptSnippet(text='होने से पहले बार-बार खुल रही थी। डॉक्टर', start=15.12, duration=6.64), FetchedTranscriptSnippet(text='शंकर नारायण गहरी सोच में डूबे थे। उनकी', start=18.72, duration=5.92), FetchedTranscriptSnippet(text='नजरें जलती लकड़ियों के पार कहीं खो गई', start=21.76, duration=6.72), FetchedTranscriptSnippet(text='थी। क्रांति पास बैठा था। हाथ में लकड़ी', start=24.64, duration=7.919), FetchedTranscriptSnippet(text='लिए आग को जला रहा था। कभी-कभी उसे कुरेद', start=28.48, duration=7.44), FetchedTranscriptSnippet(text='कर जीवित कर रहा था। लंबे सन्नाटे के बाद', start=32.559, duration=7.68), FetchedTranscriptSnippet(text='क्रांति की आवाज ने हवा को चीरते हुए कहा,', start=35.92, duration=8.4), FetchedTranscriptSnippet(text='हमें आज रात ही शुरू करना होगा। उसने धीरे', start=40.239, duration=6.561), FetchedTranscriptSnippet(text='से अपना हाथ आगे बढ़ाया और एक कपड़े में', start=44.32, duration=5.2), FetchedTranscriptSnippet(text='लिपटी हुई पत्तियां निकाली।', start=46.8, duration=7.599), FetchedTranscriptSnippet(text='वह विनोद की ओर झुका। यह खा लो। शंकर ने', start=49.52, duration=8.48), FetchedTranscriptSnippet(text='पहली बार चुप्पी तोड़ी। क्या यह वही', start=54.399, duration=6.96), FetchedTranscriptSnippet(text='पत्तियां हैं जो घनवा के लोग जिंदा रहने', start=58.0, duration=6.64), FetchedTranscriptSnippet(text='के लिए खाते हैं? क्रांति ने सर हिलाया।', start=61.359, duration=7.12), FetchedTranscriptSnippet(text='हां, विनोद ने बिना सोचे पत्ती मुंह में', start=64.64, duration=7.839), FetchedTranscriptSnippet(text='ले लिया। जैसे ही उसका रस गले से उतरा,', start=68.479, duration=7.361), FetchedTranscriptSnippet(text='उसकी आंखें चौड़ी हो गई। एक अनोखी ऊर्जा', start=72.479, duration=7.201), FetchedTranscriptSnippet(text='उसके शरीर में दौड़ने लगी। शरीर के घाव और', start=75.84, duration=7.599), FetchedTranscriptSnippet(text='खरोच जैसे गायब हो गए। जो कमर का दर्द', start=79.68, duration=6.24), FetchedTranscriptSnippet(text='सालों से परेशान कर रहा था, वह अब नहीं', start=83.439, duration=6.561), FetchedTranscriptSnippet(text='था। खुश होकर वह चौंकते हुए बोला, \"यह', start=85.92, duration=7.519), FetchedTranscriptSnippet(text='क्या जादू है क्रांति? यह पत्तियां क्या', start=90.0, duration=4.56), FetchedTranscriptSnippet(text='कर रही है?', start=93.439, duration=4.881), FetchedTranscriptSnippet(text='>> क्रांति की आवाज गंभीर थी। यह एक पुरानी', start=94.56, duration=9.199), FetchedTranscriptSnippet(text='औषधि है। यह औषधि भी है और जहर भी। यह', start=98.32, duration=10.079), FetchedTranscriptSnippet(text='ताकत देती है। लेकिन अगर इसे रोज खाओगे तो', start=103.759, duration=7.601), FetchedTranscriptSnippet(text='शरीर के अंग धीरे-धीरे बंद हो जाएंगे।', start=108.399, duration=7.281), FetchedTranscriptSnippet(text='आवाज खो दोगे सोचने की शक्ति भी चली जाएगी', start=111.36, duration=7.439), FetchedTranscriptSnippet(text='लेकिन इन पत्तियों के बिना घनवा में जाना', start=115.68, duration=7.68), FetchedTranscriptSnippet(text='खुदखुशी है। फिर उसने दोनों की ओर फेंका।', start=118.799, duration=8.081), FetchedTranscriptSnippet(text='तुम दोनों को रमेश को ले यहां आना होगा।', start=123.36, duration=6.879), FetchedTranscriptSnippet(text='वो अब भी रक्तबीज से भीतर ही भीतर लड़ रहा', start=126.88, duration=6.719), FetchedTranscriptSnippet(text='है। मेरा यकीन है मैं उस पर विधि कर सकता', start=130.239, duration=6.801), FetchedTranscriptSnippet(text='हूं। उसकी शक्ति हमें रास्ता दिखा सकती', start=133.599, duration=5.041), FetchedTranscriptSnippet(text='है।', start=137.04, duration=5.04), FetchedTranscriptSnippet(text='शंकर ने धीमी आवाज में पूछा,', start=138.64, duration=7.28), FetchedTranscriptSnippet(text='तुम्हारी योजना समझ आ रही है। लेकिन क्या', start=142.08, duration=7.519), FetchedTranscriptSnippet(text='हम सफल हो पाएंगे? संभावना तो बहुत कम है।', start=145.92, duration=6.72), FetchedTranscriptSnippet(text='क्रांति ने गहरे स्वर में कहा, कोशिश किए', start=149.599, duration=6.72), FetchedTranscriptSnippet(text='बिना कौन सफल हुआ? शंकर ने सर हिलाया।', start=152.64, duration=6.72), FetchedTranscriptSnippet(text='क्रांति ने हाथ उठाकर उत्तर की ओर इशारा', start=156.319, duration=4.481), FetchedTranscriptSnippet(text='किया।', start=159.36, duration=5.76), FetchedTranscriptSnippet(text='जंगल के उस तरफ एक छोटी गुफा है। वहीं', start=160.8, duration=7.2), FetchedTranscriptSnippet(text='रमेश अपनी बुराइयों से लड़ रहा और अपने', start=165.12, duration=6.56), FetchedTranscriptSnippet(text='बुरे सपने को वो जी रहा। उसने एक मटकी', start=168.0, duration=7.28), FetchedTranscriptSnippet(text='उठाई और उसे शंकर की ओर बढ़ाया। इसमें', start=171.68, duration=8.0), FetchedTranscriptSnippet(text='भस्म है। अगर रमेश इसे खा ले तो उसकी', start=175.28, duration=7.52), FetchedTranscriptSnippet(text='शक्ति थोड़ी देर के लिए काबू में आ जाएगी।', start=179.68, duration=6.559), FetchedTranscriptSnippet(text='आम जगहों पर एक महीना तक लेकिन घनवा में', start=182.8, duration=5.76), FetchedTranscriptSnippet(text='तुम्हें सिर्फ एक घंटे का वक्त मिलेगा', start=186.239, duration=5.761), FetchedTranscriptSnippet(text='लौटने के लिए। फिर उसकी आंखें बुझी आग की', start=188.56, duration=7.12), FetchedTranscriptSnippet(text='लपटों से ज्यादा डरावनी हुई।', start=192.0, duration=7.519), FetchedTranscriptSnippet(text='जाओ वक्त नहीं है मेरे पास।', start=195.68, duration=6.96), FetchedTranscriptSnippet(text='रवाना होने से ठीक पहले क्रांति ने दोनों', start=199.519, duration=6.241), FetchedTranscriptSnippet(text='के सिर पर धीरे से हाथ रखा। उसकी हथेलियां', start=202.64, duration=6.72), FetchedTranscriptSnippet(text='ठंडी थी। लेकिन उनमें एक कंपन थी। मानो', start=205.76, duration=7.119), FetchedTranscriptSnippet(text='बिजली की लहर जैसी। आग की लौ उस क्षण', start=209.36, duration=6.879), FetchedTranscriptSnippet(text='स्थिर हो गई थी। और चारों तरफ की हवा भी', start=212.879, duration=7.841), FetchedTranscriptSnippet(text='जैसे थम गई। क्रांति ने आंखें मूंद ली और', start=216.239, duration=8.161), FetchedTranscriptSnippet(text='धीमे-धीमे कोई मंत्र बुदबुदाने लगा। उसकी', start=220.72, duration=6.879), FetchedTranscriptSnippet(text='आवाज जंगल के सन्नाटे में मिलकर एक दूसरी', start=224.4, duration=8.0), FetchedTranscriptSnippet(text='ही लहर रच रही थी। गूंजती मगर अस्पष्ट।', start=227.599, duration=7.841), FetchedTranscriptSnippet(text='उसकी आवाज जब गूंजती तो विनोद और शंकर के', start=232.4, duration=6.479), FetchedTranscriptSnippet(text='माथे पर एक गर्म सी लहर महसूस होती। जैसे', start=235.44, duration=7.28), FetchedTranscriptSnippet(text='कोई शक्ति उनके भीतर उतर रही थी। अचानक', start=238.879, duration=7.041), FetchedTranscriptSnippet(text='उनकी आंखों के सामने की हवा हल्की सी तरल', start=242.72, duration=6.96), FetchedTranscriptSnippet(text='होती महसूस हुई। जैसे कोई पर्दा धीरे-धीरे', start=245.92, duration=8.16), FetchedTranscriptSnippet(text='हट रहा हो। क्रांति ने कहा, अब तुम उन्हें', start=249.68, duration=8.32), FetchedTranscriptSnippet(text='देख सकोगे। उसका चेहरा गंभीर था और स्वर', start=254.08, duration=7.119), FetchedTranscriptSnippet(text='में वह जानी पहचानी ठंडक जो किसी युद्ध से', start=258.0, duration=7.28), FetchedTranscriptSnippet(text='पहले के संतुलन में होती। फिर दोनों उठे।', start=261.199, duration=7.361), FetchedTranscriptSnippet(text='शंकर ने अपने कपड़े की गांठ कसी। विनोद ने', start=265.28, duration=6.0), FetchedTranscriptSnippet(text='लंबी सांस ली और दोनों जंगल की ओर बढ़', start=268.56, duration=7.44), FetchedTranscriptSnippet(text='चले। रास्ता कच्चा, पथरीला और ढालू था।', start=271.28, duration=7.68), FetchedTranscriptSnippet(text='दूर कोई जानवर की आवाज नहीं, कोई पक्षी की', start=276.0, duration=6.0), FetchedTranscriptSnippet(text='आवाज नहीं। केवल सूखे पत्तों की सरसराहट', start=278.96, duration=6.48), FetchedTranscriptSnippet(text='उनके पैर के नीचे से उठती रही और हर कदम', start=282.0, duration=7.44), FetchedTranscriptSnippet(text='के साथ जंगल जैसे और गहरा होता गया। विनोद', start=285.44, duration=7.36), FetchedTranscriptSnippet(text='की सांस तेज थी। उसका चेहरा डर से खचा हुआ', start=289.44, duration=6.96), FetchedTranscriptSnippet(text='था। उसकी आंखें बार-बार इधर-उधर दौड़ती', start=292.8, duration=7.119), FetchedTranscriptSnippet(text='जैसे हर झाड़ी में कोई छुपा हो। तभी अचानक', start=296.4, duration=8.6), FetchedTranscriptSnippet(text='उसका पैर एक चट्टान से टकरा गया।', start=299.919, duration=5.081), FetchedTranscriptSnippet(text='वो लड़खड़ाया और जमीन पर गिरतेगिरते बचा।', start=305.759, duration=7.44), FetchedTranscriptSnippet(text='उसके पैर पर चोट लग गई थी। एक लंबा खरोच', start=309.52, duration=6.239), FetchedTranscriptSnippet(text='पड़ा। लेकिन जैसे ही उसने नीचे झांक कर', start=313.199, duration=6.881), FetchedTranscriptSnippet(text='देखा खरोच गायब था। चमड़ी वही की वही जैसे', start=315.759, duration=7.841), FetchedTranscriptSnippet(text='कुछ हुआ ही नहीं। वो चौंक कर शंकर की तरफ', start=320.08, duration=7.92), FetchedTranscriptSnippet(text='देखने लगा। आपने देखा उसकी आंखों में डर', start=323.6, duration=7.76), FetchedTranscriptSnippet(text='नहीं। अब विस्मय था। शंकर जवाब नहीं दे', start=328.0, duration=7.12), FetchedTranscriptSnippet(text='रहा था। उसकी नजरें सामने कहीं टिकी थी।', start=331.36, duration=6.96), FetchedTranscriptSnippet(text='वह अंदर से असहज था। कुछ सही नहीं लग रहा', start=335.12, duration=6.799), FetchedTranscriptSnippet(text='था। उसका मन कह रहा था कि शांति के पीछे', start=338.32, duration=6.48), FetchedTranscriptSnippet(text='कोई बड़ी हलचल छुपी है। कुछ ही मिनट बाद', start=341.919, duration=6.961), FetchedTranscriptSnippet(text='हवा में एक नई आवाज खुलने लगी। धीमी रोती', start=344.8, duration=8.36), FetchedTranscriptSnippet(text='हुई एक औरत की आवाज।', start=348.88, duration=4.28), FetchedTranscriptSnippet(text='[संगीत]', start=362.85, duration=3.149), FetchedTranscriptSnippet(text='वो बहुत दूर नहीं थी और धीरे-धीरे वो दिशा', start=366.4, duration=6.88), FetchedTranscriptSnippet(text='वही हो गई जिसमें दोनों बढ़ रहे थे। विनोद', start=370.0, duration=7.44), FetchedTranscriptSnippet(text='की चाल रुक गई। शंकर भी अब और सतर्क था।', start=373.28, duration=7.84), FetchedTranscriptSnippet(text='पेड़ों के बीच एक जगह कुछ दूरी पर एक मोटी', start=377.44, duration=7.599), FetchedTranscriptSnippet(text='सी शाखा पर कोई आकृति बैठी। उसका सिर झुका', start=381.12, duration=8.16), FetchedTranscriptSnippet(text='था। और कंधे हिल रहे थे। जैसे वह जोरजोर', start=385.039, duration=9.201), FetchedTranscriptSnippet(text='से सिसक रही। उनके कदम जम गए। वो औरत नहीं', start=389.28, duration=8.72), FetchedTranscriptSnippet(text='लग रही थी। पर आवाज पूरी तरह मानवीय थी।', start=394.24, duration=8.079), FetchedTranscriptSnippet(text='इतनी दर्द भरी कि सुनते ही आंखें भीग जाए।', start=398.0, duration=8.24), FetchedTranscriptSnippet(text='विनोद की रूह कांप गई। वह घबरा कर चीखने', start=402.319, duration=6.961), FetchedTranscriptSnippet(text='ही वाला था कि शंकर ने तेजी से उसका मुंह', start=406.24, duration=6.32), FetchedTranscriptSnippet(text='अपनी हथेली से बंद कर दिया।', start=409.28, duration=5.199), FetchedTranscriptSnippet(text='शांत रहो।', start=412.56, duration=5.44), FetchedTranscriptSnippet(text='शंकर ने फुसफुसाते हुए कहा और फिर ठंडी', start=414.479, duration=7.521), FetchedTranscriptSnippet(text='हवा के झोंकों के बीच उसकी सिसकती आकृति', start=418.0, duration=8.16), FetchedTranscriptSnippet(text='कहीं और देखने लगी। अब हवा और भी ठंडी हो', start=422.0, duration=7.599), FetchedTranscriptSnippet(text='गई थी। उनकी सांसे भाप में बदल चुकी थी', start=426.16, duration=7.36), FetchedTranscriptSnippet(text='जैसे सर्दी बढ़ गई। और हवा में अब', start=429.599, duration=7.44), FetchedTranscriptSnippet(text='सिसकियों के साथ कुछ और भी था। एक अजीब सी', start=433.52, duration=6.72), FetchedTranscriptSnippet(text='गंध, कच्चे मांस और सड़े फूलों की', start=437.039, duration=6.72), FetchedTranscriptSnippet(text='मिलीजुली भूख जो धीरे-धीरे घनी होती जा', start=440.24, duration=7.12), FetchedTranscriptSnippet(text='रही थी। शंकर ने मन में सोचा क्या यह', start=443.759, duration=6.401), FetchedTranscriptSnippet(text='पत्तियों का असर है जो अब तक हम पर कोई', start=447.36, duration=6.16), FetchedTranscriptSnippet(text='हमला नहीं हुआ। क्या यह हमें कुछ समय के', start=450.16, duration=6.879), FetchedTranscriptSnippet(text='लिए अदृश्य बनाए हुए? उसका हाथ विनोद के', start=453.52, duration=7.679), FetchedTranscriptSnippet(text='कंधे पर कस गया। ध्यान से चलो। कोई हलचल', start=457.039, duration=7.521), FetchedTranscriptSnippet(text='नहीं, कोई आवाज नहीं। जंगल अब ना सिर्फ', start=461.199, duration=6.801), FetchedTranscriptSnippet(text='अंधेरा था बल्कि देखने में भी बदल गया था।', start=464.56, duration=8.0), FetchedTranscriptSnippet(text='हर शाख हर परछाई अब कुछ और लग रही थी। वे', start=468.0, duration=7.44), FetchedTranscriptSnippet(text='दोनों जान चुके थे अब वे उस दुनिया में', start=472.56, duration=6.319), FetchedTranscriptSnippet(text='दाखिल हो चुके हैं जहां पर हर परछाई कुछ', start=475.44, duration=8.0), FetchedTranscriptSnippet(text='कहती और हर आहट का कोई मतलब होता है। जंगल', start=478.879, duration=7.681), FetchedTranscriptSnippet(text='की रात अब स्याही बन चुकी थी। हवा में वह', start=483.44, duration=6.08), FetchedTranscriptSnippet(text='चुप्पी थी जो किसी अनहोनी से पहले उतरती', start=486.56, duration=6.319), FetchedTranscriptSnippet(text='है। पेड़ों की डालियां एक दूसरे से सटकर', start=489.52, duration=6.32), FetchedTranscriptSnippet(text='अजीब सी आकृतियां बना रही थी। शंकर और', start=492.879, duration=6.081), FetchedTranscriptSnippet(text='विनोद की चाल अब भारी हो चुकी थी। चारों', start=495.84, duration=5.919), FetchedTranscriptSnippet(text='तरफ सिर्फ पत्तों की चरमराहट और उनकी अपनी', start=498.96, duration=5.76), FetchedTranscriptSnippet(text='सांसों की आवाज थी। पत्तियां अब भी उनके', start=501.759, duration=6.961), FetchedTranscriptSnippet(text='अंदर ऊर्जा बनाए हुए थी। लेकिन हर क्षण उस', start=504.72, duration=7.199), FetchedTranscriptSnippet(text='ताकत को निगल रहा था। शंकर के मन में', start=508.72, duration=7.119), FetchedTranscriptSnippet(text='सिर्फ एक ही बात थी। जल्दी पहुंचना होगा।', start=511.919, duration=8.081), FetchedTranscriptSnippet(text='उससे पहले कि कुछ और हमें देख ले। एक मोड़', start=515.839, duration=8.241), FetchedTranscriptSnippet(text='पर आकर वे रुक गए। उनके सामने एक चौड़ा', start=520.0, duration=7.519), FetchedTranscriptSnippet(text='ठहरा हुआ जल स्त्रोत था। एक दलदली झील', start=524.08, duration=7.12), FetchedTranscriptSnippet(text='जैसी जो चांद की रोशनी से वंचित थी। पानी', start=527.519, duration=6.721), FetchedTranscriptSnippet(text='पूरी तरह स्थिर था और अंधेरे में डूबा हुआ', start=531.2, duration=8.0), FetchedTranscriptSnippet(text='था। विनोद वहीं रुक गया। नहीं नहीं मैं', start=534.24, duration=6.96), FetchedTranscriptSnippet(text='नहीं जा सकता।', start=539.2, duration=5.52), FetchedTranscriptSnippet(text='उसकी आवाज कांप रही थी। इस पानी में कुछ', start=541.2, duration=7.28), FetchedTranscriptSnippet(text='है मैं महसूस कर रहा हूं। शंकर ने बिना', start=544.72, duration=6.72), FetchedTranscriptSnippet(text='कुछ कहे उसके हाथ पकड़े और उसे खींचने', start=548.48, duration=4.479), FetchedTranscriptSnippet(text='लगा।', start=551.44, duration=4.56), FetchedTranscriptSnippet(text='>> अब लौटने का रास्ता नहीं है। यह पार करना', start=552.959, duration=6.721), FetchedTranscriptSnippet(text='ही होगा। जैसे ही उनका पैर पानी में पड़ा,', start=556.0, duration=6.8), FetchedTranscriptSnippet(text='उसमें लहरें उठी धीमी मगर कुछ ज्यादा ही', start=559.68, duration=6.52), FetchedTranscriptSnippet(text='जीवित सी।', start=562.8, duration=3.4), FetchedTranscriptSnippet(text='पानी के नीचे से कुछ चिपचिपे स्पर्श उनके', start=568.24, duration=8.159), FetchedTranscriptSnippet(text='घुटनों पर लिपटने लगे। ऐसा लग रहा था जैसे', start=572.0, duration=6.959), FetchedTranscriptSnippet(text='किसी ने झाड़ियों की तरह उंगलियां फैला', start=576.399, duration=5.88), FetchedTranscriptSnippet(text='रखी हो।', start=578.959, duration=3.32), FetchedTranscriptSnippet(text='तभी एक चीख जैसी आवाज आसमान से गिरी। ऊपर', start=588.16, duration=7.52), FetchedTranscriptSnippet(text='देखा तो एक पक्षी जैसा कुछ बहुत ऊंचाई से', start=592.32, duration=7.199), FetchedTranscriptSnippet(text='उड़ता हुआ उनकी ओर आ रहा था। मगर यह कोई', start=595.68, duration=7.12), FetchedTranscriptSnippet(text='आम पक्षी नहीं था। इसके पंख टूटे हुए', start=599.519, duration=6.401), FetchedTranscriptSnippet(text='हड्डियों जैसे लग रहे थे। चेहरा इंसान और', start=602.8, duration=5.84), FetchedTranscriptSnippet(text='जानवर के बीच किसी भयानक प्रयोग का परिणाम', start=605.92, duration=4.32), FetchedTranscriptSnippet(text='लग रहा था।', start=608.64, duration=5.199), FetchedTranscriptSnippet(text='इसकी चोंच नहीं थी बल्कि एक खुलता फटता', start=610.24, duration=6.64), FetchedTranscriptSnippet(text='मांस का ढेर जिसमें से कीड़े झांक रहे', start=613.839, duration=5.921), FetchedTranscriptSnippet(text='हैं। शंकर ने सिर घुमाया ही था कि वो', start=616.88, duration=7.12), FetchedTranscriptSnippet(text='राक्षसी पक्षी उसके चेहरे पर झपटा।', start=619.76, duration=8.72), FetchedTranscriptSnippet(text='एक झटका एक दर्दनाक चीख', start=624.0, duration=8.64), FetchedTranscriptSnippet(text='और उसकी दाई आंख बाहर खींच ली गई। आंख से', start=628.48, duration=7.44), FetchedTranscriptSnippet(text='खून की धार निकली और पक्षी की चोंच में', start=632.64, duration=6.8), FetchedTranscriptSnippet(text='उसकी पुतली अब एक लाल चमकती मोती जैसी घूम', start=635.92, duration=7.359), FetchedTranscriptSnippet(text='रही थी। पक्षी चीखता हुआ दूर चला गया और', start=639.44, duration=6.639), FetchedTranscriptSnippet(text='शंकर गिरतेगिरते संभला।', start=643.279, duration=5.8), FetchedTranscriptSnippet(text='आंख', start=646.079, duration=3.0), FetchedTranscriptSnippet(text='आंख विनोद चिल्लाया। मगर शंकर ने उसका हाथ', start=649.519, duration=8.56), FetchedTranscriptSnippet(text='कसकर पकड़ा। रुकना मना है। जैसे ही वे आगे', start=653.44, duration=8.56), FetchedTranscriptSnippet(text='बढ़े पानी अब जिंदा हो गया था। उसमें से', start=658.079, duration=7.681), FetchedTranscriptSnippet(text='मानसल सड़े हुए हाथ बाहर आने लगे। बिना', start=662.0, duration=7.12), FetchedTranscriptSnippet(text='उंगलियों के सिर पंजे। कुछ ने विनोद की', start=665.76, duration=6.4), FetchedTranscriptSnippet(text='कमर पकड़ ली। कुछ शंकर की जांघ से लिपट', start=669.12, duration=6.56), FetchedTranscriptSnippet(text='गई। एक प्राणी ने विनोद की पट को चीरते', start=672.16, duration=7.84), FetchedTranscriptSnippet(text='हुए उसके पैर को खींचा। शंकर ने उस पर लात', start=675.68, duration=8.159), FetchedTranscriptSnippet(text='मारी और उसी क्षण पानी से निकली एक जली', start=680.0, duration=7.44), FetchedTranscriptSnippet(text='हुई शाखा को उठाकर उसके मुंह में घुसेड़', start=683.839, duration=6.601), FetchedTranscriptSnippet(text='दिया।', start=687.44, duration=3.0), FetchedTranscriptSnippet(text='उसकी चीख पानी के बुलबुले की तरह ऊपर उठी', start=692.72, duration=7.04), FetchedTranscriptSnippet(text='और वो प्राणी वहीं फड़फड़ा कर मर गया।', start=696.64, duration=6.72), FetchedTranscriptSnippet(text='विनोद की हालत खराब थी। पसीने और डर में', start=699.76, duration=5.44), FetchedTranscriptSnippet(text='डूबा हुआ।', start=703.36, duration=5.84), FetchedTranscriptSnippet(text='मैं डूब जाऊंगा। हम नहीं बचेंगे। शंकर अब', start=705.2, duration=7.36), FetchedTranscriptSnippet(text='पूरी तरह जानवर बन चुका था। उसका एक हाथ', start=709.2, duration=6.8), FetchedTranscriptSnippet(text='अपनी बहती आंख को दबाकर रखा था और दूसरा', start=712.56, duration=6.24), FetchedTranscriptSnippet(text='विनोद को खींच रहा था।', start=716.0, duration=5.68), FetchedTranscriptSnippet(text='पानी से निकलते ही जैसे किसी ने उन्हें', start=718.8, duration=6.24), FetchedTranscriptSnippet(text='भीतर से निचोड़ दिया हो। शरीर गीला, कपड़े', start=721.68, duration=7.44), FetchedTranscriptSnippet(text='फटे और सांसे चढ़ी हुई। और अब उनके सामने', start=725.04, duration=7.359), FetchedTranscriptSnippet(text='वही गुफा था जिसका वर्णन क्रांति ने किया', start=729.12, duration=6.48), FetchedTranscriptSnippet(text='था। गुफा के बाहर की दीवारों पर सूखे खून', start=732.399, duration=6.961), FetchedTranscriptSnippet(text='की छींटे थी। कुछ हाथों के निशान भी छोटे', start=735.6, duration=7.679), FetchedTranscriptSnippet(text='बच्चों के जैसे लेकिन उंगलियां छह।', start=739.36, duration=8.24), FetchedTranscriptSnippet(text='विनोद वहीं घुटने के पैर बैठ गया। बस और', start=743.279, duration=8.961), FetchedTranscriptSnippet(text='नहीं अब नहीं। शंकर ने एक हाथ से उसे', start=747.6, duration=5.919), FetchedTranscriptSnippet(text='उठाया।', start=752.24, duration=5.44), FetchedTranscriptSnippet(text='>> हमने अब तक जो सहा है वो इस दरवाजे के', start=753.519, duration=8.081), FetchedTranscriptSnippet(text='भीतर समाझ आएगा। अब पीछे देखना नहीं है।', start=757.68, duration=6.88), FetchedTranscriptSnippet(text='>> गुफा के भीतर से कोई आवाज नहीं थी। लेकिन', start=761.6, duration=5.919), FetchedTranscriptSnippet(text='अंधेरे के उस पार कुछ उनकी प्रतीक्षा कर', start=764.56, duration=7.68), FetchedTranscriptSnippet(text='रहा था। एक सिसकी, एक सांस, एक राक्षस।', start=767.519, duration=7.841), FetchedTranscriptSnippet(text='वे गुफा के मुहाने पर खड़े थे। अब पीछे', start=772.24, duration=7.039), FetchedTranscriptSnippet(text='कुछ नहीं था और आगे केवल अंधेरा था। गुफा', start=775.36, duration=6.56), FetchedTranscriptSnippet(text='के भीतर से एक करहाती हुई आवाज गूंज रही', start=779.279, duration=7.281), FetchedTranscriptSnippet(text='थी। भारी टूटी हुई जैसे कोई जीव अपने भीतर', start=781.92, duration=10.28), FetchedTranscriptSnippet(text='की यातना को जोर देकर बाहर निकाल रहा।', start=786.56, duration=5.64), FetchedTranscriptSnippet(text='[संगीत]', start=793.79, duration=3.62), FetchedTranscriptSnippet(text='शंकर और विनोद दोनों ठिटके खड़े रहे।', start=799.44, duration=6.399), FetchedTranscriptSnippet(text='लेकिन उस आवाज ने उनके पैरों को चलने पर', start=802.56, duration=6.399), FetchedTranscriptSnippet(text='मजबूर कर दिया। डर उनकी हड्डियों में चुभ', start=805.839, duration=6.401), FetchedTranscriptSnippet(text='रहा था। फिर भी वे आगे बढ़ते रहे। गुफा का', start=808.959, duration=7.361), FetchedTranscriptSnippet(text='अंदरूनी वातावरण नर्क से कम नहीं था। हवा', start=812.24, duration=6.88), FetchedTranscriptSnippet(text='सड़ी हुई मांस की गंध से भरी थी। घनी', start=816.32, duration=6.079), FetchedTranscriptSnippet(text='चिपचिपी और दम घोटने वाली। चारों ओर', start=819.12, duration=7.44), FetchedTranscriptSnippet(text='इंसानी शरीर के कटे फटे टुकड़े पड़े थे।', start=822.399, duration=7.68), FetchedTranscriptSnippet(text='हड्डियां, चमड़ी के लोथड़े और कभी-कभी कोई', start=826.56, duration=6.32), FetchedTranscriptSnippet(text='अधूरी चीख अभी भी दीवारों से टकरा कर', start=830.079, duration=6.081), FetchedTranscriptSnippet(text='लौटती थी। एक कोने में पुरानी फटी साड़ी', start=832.88, duration=5.759), FetchedTranscriptSnippet(text='से लिपटी एक बूढ़ी औरत की लाश पड़ी थी।', start=836.16, duration=5.6), FetchedTranscriptSnippet(text='उसका सिर गायब था। शरीर सिकुड़ा हुआ।', start=838.639, duration=6.32), FetchedTranscriptSnippet(text='गर्दन से खून की सूखी परतें जमीन पर फैली', start=841.76, duration=7.04), FetchedTranscriptSnippet(text='थी। उस मंजर को देखते ही विनोद का पेट पलट', start=844.959, duration=9.341), FetchedTranscriptSnippet(text='गया। उसने वहीं जोर से उल्टी की।', start=848.8, duration=7.36), FetchedTranscriptSnippet(text='[संगीत]', start=854.3, duration=4.82), FetchedTranscriptSnippet(text='उसकी आंखें पानी से भर गई थी और वह', start=856.16, duration=6.799), FetchedTranscriptSnippet(text='हड़बड़ा कर बाहर की ओर भाग गया। मैं नहीं', start=859.12, duration=7.279), FetchedTranscriptSnippet(text='कर सकता। नहीं नहीं मैं नहीं। वह चीखता', start=862.959, duration=7.521), FetchedTranscriptSnippet(text='गया। शंकर ने पलट कर देखा और वह समझ गया', start=866.399, duration=6.56), FetchedTranscriptSnippet(text='कि विनोद अब उसके किसी काम का नहीं था।', start=870.48, duration=5.919), FetchedTranscriptSnippet(text='उसे वहीं छोड़कर वह धीरे-धीरे उस दिशा में', start=872.959, duration=6.88), FetchedTranscriptSnippet(text='बढ़ा जहां से करहाने की आवाज आ रही थी। कई', start=876.399, duration=6.641), FetchedTranscriptSnippet(text='मिनट की डरावनी खामोशी के बाद सामने एक', start=879.839, duration=6.961), FetchedTranscriptSnippet(text='आकृति दिखाई दी। मिट्टी, खून और परछाइयों', start=883.04, duration=7.44), FetchedTranscriptSnippet(text='के बीच एक इंसान बैठा था। कांपता हुआ वह', start=886.8, duration=7.12), FetchedTranscriptSnippet(text='रमेश था। उसका शरीर झुक कर बैठा था। आंखें', start=890.48, duration=6.799), FetchedTranscriptSnippet(text='नीची गड़ी हुई थी और पूरे बदन पर', start=893.92, duration=6.719), FetchedTranscriptSnippet(text='आत्मग्लानि और पीड़ा लिपटी हुई थी। रमेश', start=897.279, duration=7.12), FetchedTranscriptSnippet(text='ने अचानक सिर उठाया और शंकर को देखा। उसकी', start=900.639, duration=6.961), FetchedTranscriptSnippet(text='आंखों में पहचान की झलक तो थी पर उस पर', start=904.399, duration=6.161), FetchedTranscriptSnippet(text='गुस्सा हावी था। उसने पास में एक छोटा सा', start=907.6, duration=5.599), FetchedTranscriptSnippet(text='पत्थर उठाया और शंकर की तरफ फेंकते हुए', start=910.56, duration=7.519), FetchedTranscriptSnippet(text='गुरा। दूर रहो मुझसे। शंकर लड़खड़ाया', start=913.199, duration=7.281), FetchedTranscriptSnippet(text='लेकिन रुका नहीं। उसने कपड़े में बंधी', start=918.079, duration=5.601), FetchedTranscriptSnippet(text='भस्म निकाली और बिना देर किए मुट्ठी भर', start=920.48, duration=6.4), FetchedTranscriptSnippet(text='राख रमेश के मुंह में जबरन ठूस दिए। रमेश', start=923.68, duration=6.24), FetchedTranscriptSnippet(text='की आंखें लाल हो उठी। उसने जोर से दहाड़', start=926.88, duration=6.04), FetchedTranscriptSnippet(text='मारी।', start=929.92, duration=3.0), FetchedTranscriptSnippet(text='और झटके से शंकर को धकेल दिया। शंकर गुफा', start=943.279, duration=6.641), FetchedTranscriptSnippet(text='की जमीन पर गिर पड़ा। उसका संतुलन बिगड़ा', start=946.72, duration=6.239), FetchedTranscriptSnippet(text='और वह कुछ दूर तक फिसलता चला गया। उसकी', start=949.92, duration=6.479), FetchedTranscriptSnippet(text='एकमात्र आंख भय से चौड़ी हो गई थी। लेकिन', start=952.959, duration=6.88), FetchedTranscriptSnippet(text='उसने निगाहें नहीं हटाई। रमेश का शरीर अब', start=956.399, duration=6.401), FetchedTranscriptSnippet(text='झटों से कांप रहा था। उसकी मांसपेशियां', start=959.839, duration=6.161), FetchedTranscriptSnippet(text='खींच रही थी। नसे बाहर उभर आई थी। वह', start=962.8, duration=6.32), FetchedTranscriptSnippet(text='जोर-जोर से रो रहा था और हर आंसू जैसे', start=966.0, duration=6.8), FetchedTranscriptSnippet(text='लावा बनकर उसे जला रहा था। करीब 5 मिनट तक', start=969.12, duration=6.8), FetchedTranscriptSnippet(text='वह तड़पता रहा। फिर अचानक चुप हो गया।', start=972.8, duration=6.32), FetchedTranscriptSnippet(text='बेहोश होकर जमीन पर ढेर हो गया। शंकर', start=975.92, duration=6.24), FetchedTranscriptSnippet(text='धीमे-धीमे उठ खड़ा हुआ। उसका चेहरा खून से', start=979.12, duration=6.159), FetchedTranscriptSnippet(text='सना था। लेकिन आश्चर्य की बात यह थी कि', start=982.16, duration=6.64), FetchedTranscriptSnippet(text='उसकी आंख की खोखली जगह अब मांस से भर चुकी', start=985.279, duration=6.641), FetchedTranscriptSnippet(text='थी। फिर भी वह हमेशा के लिए एक आंख से', start=988.8, duration=6.24), FetchedTranscriptSnippet(text='अंधा हो चुका था। वह झुका रमेश को सावधानी', start=991.92, duration=6.32), FetchedTranscriptSnippet(text='से कंधे पर उठाया और गुफा से बाहर निकला।', start=995.04, duration=6.479), FetchedTranscriptSnippet(text='उसने इधर-उधर देखा। विनोद कहीं नहीं था।', start=998.24, duration=7.76), FetchedTranscriptSnippet(text='ना आवाज, ना निशान, सब कुछ शांत। समय कम', start=1001.519, duration=8.24), FetchedTranscriptSnippet(text='है। शंकर ने खुद से कहा और रमेश को कसकर', start=1006.0, duration=6.8), FetchedTranscriptSnippet(text='पकड़ा। अब उसे किसी भी हालत में क्रांति', start=1009.759, duration=6.241), FetchedTranscriptSnippet(text='तक पहुंचना। वह जंगल की तरफ दौड़ पड़ा। एक', start=1012.8, duration=7.36), FetchedTranscriptSnippet(text='आंख, एक उम्मीद और एक बोझ के साथ। जबकि', start=1016.0, duration=6.88), FetchedTranscriptSnippet(text='पीछे अंधेरा अब भी उन्हें देख रहा था।', start=1020.16, duration=6.879), FetchedTranscriptSnippet(text='शंकर भाग रहा था। हाफ लड़खड़ाता। एक आंख', start=1022.88, duration=7.439), FetchedTranscriptSnippet(text='से आंसुओं और खून की दाल मिलकर बहती जा', start=1027.039, duration=6.321), FetchedTranscriptSnippet(text='रही थी। उसके चेहरे पर डर और दर्द एक साथ', start=1030.319, duration=6.72), FetchedTranscriptSnippet(text='चिपके हुए थे। कंधे पर बेहोश रमेश का शरीर', start=1033.36, duration=7.199), FetchedTranscriptSnippet(text='था जो बार-बार फिसलता लेकिन शंकर हर बार', start=1037.039, duration=6.321), FetchedTranscriptSnippet(text='उसे कसकर थाम लेते। उसके पैरों में ताकत', start=1040.559, duration=6.64), FetchedTranscriptSnippet(text='अब इच्छा भर ही बाकी थी। जंगल के पत्ते अब', start=1043.36, duration=6.48), FetchedTranscriptSnippet(text='रास्ता नहीं दे रहे थे। वह चिपक रहे थे,', start=1047.199, duration=5.761), FetchedTranscriptSnippet(text='पकड़ रहे थे। जैसे रमेश को वापस खींच लेना', start=1049.84, duration=6.16), FetchedTranscriptSnippet(text='चाहता हूं। मगर शंकर ने हार नहीं मानी।', start=1052.96, duration=6.48), FetchedTranscriptSnippet(text='हाफ हाफते करहाते हुए खून और पसीने से', start=1056.0, duration=6.799), FetchedTranscriptSnippet(text='लथपथ वह आखिरकार नदी के किनारे पहुंचा। वह', start=1059.44, duration=6.32), FetchedTranscriptSnippet(text='वही घुटनों के बल गिर पड़ा और रमेश का', start=1062.799, duration=7.201), FetchedTranscriptSnippet(text='शरीर नीचे उतार दिया। उसकी सांसे तेज थी।', start=1065.76, duration=7.039), FetchedTranscriptSnippet(text='आंख से आंसू रुक नहीं रहे थे। ना दर्द की', start=1070.0, duration=6.799), FetchedTranscriptSnippet(text='वजह से ना डर से। बस एक अनकही थकान थी।', start=1072.799, duration=6.961), FetchedTranscriptSnippet(text='आत्मा तक भीग चुकी थी। नदी के किनारे का', start=1076.799, duration=6.24), FetchedTranscriptSnippet(text='दृश्य अब वैसा नहीं था जैसा उन्होंने', start=1079.76, duration=7.159), FetchedTranscriptSnippet(text='पिछली बार देखा था।', start=1083.039, duration=3.88), FetchedTranscriptSnippet(text='ओम', start=1100.48, duration=3.0), FetchedTranscriptSnippet(text='[संगीत]', start=1107.83, duration=4.01), FetchedTranscriptSnippet(text='इस बार क्रांति अकेला नहीं लग रहा था', start=1109.36, duration=5.04), FetchedTranscriptSnippet(text='बल्कि किसी प्राचीन शक्ति के सानिध्य में', start=1111.84, duration=5.92), FetchedTranscriptSnippet(text='खड़ा आग का एक बड़ा गोल घेरा तैयार किया', start=1114.4, duration=7.6), FetchedTranscriptSnippet(text='गया था जिसे घी हड्डियों की राख और जड़ी', start=1117.76, duration=6.96), FetchedTranscriptSnippet(text='बूटियों से सजाया गया था। हर चिंगारी से', start=1122.0, duration=5.36), FetchedTranscriptSnippet(text='धुएं की ऐसी लहर उठ रही थी जिसमें', start=1124.72, duration=6.079), FetchedTranscriptSnippet(text='आकृतियां बन रही थी और तुरंत बिखर जाती।', start=1127.36, duration=6.24), FetchedTranscriptSnippet(text='कभी चेहरा, कभी आंखें, कभी नाक जैसी', start=1130.799, duration=4.641), FetchedTranscriptSnippet(text='आकृतियां।', start=1133.6, duration=5.12), FetchedTranscriptSnippet(text='चारों ओर छोटे-छोटे मिट्टी के दीप लगे थे।', start=1135.44, duration=6.16), FetchedTranscriptSnippet(text='जिनमें कोई लाल और हरे रंग की लौ जल रही', start=1138.72, duration=6.72), FetchedTranscriptSnippet(text='थी। जगह-जगह रक्त से खींचे रेखा चित्र थे।', start=1141.6, duration=7.12), FetchedTranscriptSnippet(text='जिनमें घनवा के प्रतीक, विकृत मानव चेहरे', start=1145.44, duration=5.92), FetchedTranscriptSnippet(text='और प्राचीन लिपियां खुदी थी। क्रांति आग', start=1148.72, duration=5.52), FetchedTranscriptSnippet(text='के ठीक सामने पालथी मारकर बैठा था। उसकी', start=1151.36, duration=5.679), FetchedTranscriptSnippet(text='आंखें बंद थी। माथे पर राख की मोटी रेखा', start=1154.24, duration=5.36), FetchedTranscriptSnippet(text='खींची हुई थी। उसके होठों से लगातार मंत्र', start=1157.039, duration=5.921), FetchedTranscriptSnippet(text='फूट रहे थे। धीमे, फिर तेज और फिर', start=1159.6, duration=6.48), FetchedTranscriptSnippet(text='फुसफुसाहट में बदल जाता। उसके गले से आती', start=1162.96, duration=6.4), FetchedTranscriptSnippet(text='आवाज अब इंसानी नहीं लग रही थी। वो गहराई', start=1166.08, duration=5.92), FetchedTranscriptSnippet(text='में गूंज रही थी। जैसे किसी और आयाम से', start=1169.36, duration=6.0), FetchedTranscriptSnippet(text='उतर रही है। हवा भारी हो चुकी थी। सांस', start=1172.0, duration=7.2), FetchedTranscriptSnippet(text='लेना कठिन और वातावरण में एक कंपन था जो', start=1175.36, duration=6.319), FetchedTranscriptSnippet(text='त्वचा के भीतर तक महसूस हो रहा था।', start=1179.2, duration=5.68), FetchedTranscriptSnippet(text='क्रांति ने मंत्र पढ़ना बंद किया और उठकर', start=1181.679, duration=5.36), FetchedTranscriptSnippet(text='खड़ा हो गया।', start=1184.88, duration=7.28), FetchedTranscriptSnippet(text='रक्त बीज बाहर आ। उसका स्वर गूंजता हुआ आग', start=1187.039, duration=8.561), FetchedTranscriptSnippet(text='के साथ लहराया। अगले ही पल रमेश का शरीर', start=1192.16, duration=6.639), FetchedTranscriptSnippet(text='हिलने लगा। उसकी उंगलियां पंजों में बदल', start=1195.6, duration=6.48), FetchedTranscriptSnippet(text='रही। उसकी रीड की हड्डी फड़फड़ा कर ऊपर', start=1198.799, duration=6.24), FetchedTranscriptSnippet(text='उठी। जैसे कोई जानवर अपनी असली शक्ल में', start=1202.08, duration=7.68), FetchedTranscriptSnippet(text='लौट रहा। उसका चेहरा लंबा हो गया। जब फटे', start=1205.039, duration=7.921), FetchedTranscriptSnippet(text='और उनमें नुकीले बाल निकल आए। उसकी पीठ पर', start=1209.76, duration=6.48), FetchedTranscriptSnippet(text='मोटे-मोटे बाल हो गए। उसकी त्वचा राख जैसी', start=1212.96, duration=6.48), FetchedTranscriptSnippet(text='भूरी हुई। अब वह ना इंसान था ना ज्ञान था।', start=1216.24, duration=5.92), FetchedTranscriptSnippet(text='वह एक भयंकर शंकर रूप में बदल चुका था।', start=1219.44, duration=6.32), FetchedTranscriptSnippet(text='शंकर पीछे हट गया। उसकी एकमात्र आंख भय', start=1222.16, duration=7.36), FetchedTranscriptSnippet(text='में फैल गई। क्रांति ने हाथ उठाया और शांत', start=1225.76, duration=6.0), FetchedTranscriptSnippet(text='स्वर में कहा।', start=1229.52, duration=6.56), FetchedTranscriptSnippet(text='अब यह मेरे वश में है। भयभीत मत हो शंकर।', start=1231.76, duration=7.12), FetchedTranscriptSnippet(text='शंकर ने धीरे से सिर हिलाया। लेकिन उसकी', start=1236.08, duration=5.839), FetchedTranscriptSnippet(text='सांसे अब भी लड़खड़ा रही थी। क्रांति उसकी', start=1238.88, duration=6.24), FetchedTranscriptSnippet(text='तरफ मुड़ा और सीधे उसकी आंखों में देखते', start=1241.919, duration=6.561), FetchedTranscriptSnippet(text='हुए बोला विनोद कहां है? शंकर का चेहरा', start=1245.12, duration=7.12), FetchedTranscriptSnippet(text='गिर गया। उसके होठ कांपे। मुझे नहीं पता', start=1248.48, duration=6.8), FetchedTranscriptSnippet(text='वो भाग गया था और मैं ढूंढ नहीं पाया।', start=1252.24, duration=5.919), FetchedTranscriptSnippet(text='क्रांति कुछ देर तक उसे देखता रहा। फिर', start=1255.28, duration=6.0), FetchedTranscriptSnippet(text='अचानक हवा में घंटियों की आवाज तेज हो गई।', start=1258.159, duration=7.841), FetchedTranscriptSnippet(text='घंटी बज चुकी है। जल्दी करो। वक्त नहीं।', start=1261.28, duration=7.6), FetchedTranscriptSnippet(text='क्रांति ने जमीन से एक हड्डी उठाई और रक्त', start=1266.0, duration=6.72), FetchedTranscriptSnippet(text='बीज की ओर इशारा किया। आग और मंद अब युद्ध', start=1268.88, duration=8.039), FetchedTranscriptSnippet(text='के आदेश में बदलने लगे।', start=1272.72, duration=4.199)], video_id='C3VtQX8frao', language='Hindi (auto-generated)', language_code='hi', is_generated=True)\n"
     ]
    }
   ],
   "source": [
    "import random\n",
    "from youtube_transcript_api import YouTubeTranscriptApi\n",
    "\n",
    "video_id = \"C3VtQX8frao\"\n",
    "transcript = YouTubeTranscriptApi().fetch(video_id=video_id, languages=['hi', 'en'])\n",
    "print(transcript)\n",
    "\n",
    "# Pick 2 random lines\n",
    "# snippets = random.sample(transcript, min(2, len(transcript)))\n",
    "# print(snippets)\n",
    "# for s in snippets:\n",
    "#     timestamp = f\"{int(s['start']//60)}:{int(s['start']%60):02d}\"\n",
    "#     print(f\"At {timestamp}, they said: {s['text']}\")\n"
   ]
  },
  {
   "cell_type": "code",
   "execution_count": 2,
   "id": "0e958734",
   "metadata": {},
   "outputs": [],
   "source": [
    "# Some Hindi emotional keywords (can be extended)\n",
    "INTERESTING_WORDS = [\n",
    "    # Fear / Horror\n",
    "    'डर', 'डरावना', 'भय', 'भयानक', 'सिहरन', 'चौंक', 'चीख', 'हड्डी', 'खून',\n",
    "    'खूनखराबा', 'खूनी', 'काँप', 'दहशत', 'भूतिया', 'भयानकता',\n",
    "    \n",
    "    # Supernatural / Paranormal\n",
    "    'भूत', 'प्रेत', 'आत्मा', 'चुड़ैल', 'डायन', 'शैतान', 'पिशाच',\n",
    "    'राक्षस', 'प्रेतात्मा', 'जिन्न', 'अलौकिक', 'कब्र', 'कब्रिस्तान',\n",
    "    'काल', 'काला जादू', 'टोना', 'वूडू', 'अजीब', 'रहस्यमय', 'रहस्य',\n",
    "\n",
    "    # Suspense / Thriller\n",
    "    'खतरा', 'खतरनाक', 'साजिश', 'शक', 'गायब', 'गुम', 'रहस्यमय', \n",
    "    'भटक', 'अनजान', 'चुपके', 'साया', 'सन्नाटा', 'अंधेरा', 'गुप्त',\n",
    "    'गुप्तचर', 'सपना', 'दुःस्वप्न', 'दुःखद', 'घातक', 'घात', 'अनहोनी',\n",
    "    \n",
    "    # Emotional / Impactful\n",
    "    'रोमांच', 'रोमांचक', 'चौंकाने', 'हैरान', 'आश्चर्य', 'अविश्वसनीय',\n",
    "    'जोरदार', 'खौफनाक', 'खौफ', 'बेहोश', 'सन्न', 'झटका', 'गुस्सा',\n",
    "    'खामोशी', 'तन्हाई', 'घबराहट', 'परेशान', 'खतरनाक', 'भ्रम',\n",
    "    \n",
    "    # Sound / Action words often used in horror\n",
    "    'ठक', 'धमाका', 'चीख', 'चिल्लाहट', 'आहट', 'आवाज़', 'धमक', 'फुसफुसाहट',\n",
    "    'कराह', 'सिसकी', 'फुफकार', 'भड़भड़ाहट', 'गूंज', 'बज', 'ठोकर',\n",
    "    \n",
    "    # Dark / Visual imagery\n",
    "    'खून', 'लाश', 'मौत', 'मृत', 'कंकाल', 'कब्र', 'मृत्यु', 'अंधकार', \n",
    "    'खोपड़ी', 'सड़न', 'काला', 'धुंध', 'साया', 'अदृश्य', 'परछाई'\n",
    "]\n",
    "\n",
    "def score_snippet(snippet):\n",
    "    \"\"\"\n",
    "    Score snippet based on interestingness:\n",
    "    - Longer text gets higher score\n",
    "    - Contains emotional words or punctuation\n",
    "    \"\"\"\n",
    "    text = snippet.text\n",
    "    score = len(text)  # Base score = length\n",
    "    if any(word in text for word in INTERESTING_WORDS):\n",
    "        score += 10\n",
    "    if '!' in text or '?' in text:\n",
    "        score += 5\n",
    "    return score\n",
    "\n",
    "\n",
    "def get_transcript_snippets(video_id, top_n=2):\n",
    "    try:\n",
    "        yt_api = YouTubeTranscriptApi()\n",
    "        transcript_obj = yt_api.fetch(video_id=video_id, languages=['hi', 'en'])\n",
    "        snippets_list = transcript_obj.snippets\n",
    "\n",
    "        if not snippets_list:\n",
    "            return []\n",
    "\n",
    "        # Sort by interestingness score (descending)\n",
    "        ranked_snippets = sorted(snippets_list, key=score_snippet, reverse=True)\n",
    "\n",
    "        # Pick top N snippets randomly from the top 30% most interesting ones\n",
    "        cutoff = max(1, int(len(ranked_snippets) * 0.3))\n",
    "        top_candidates = ranked_snippets[:cutoff]\n",
    "        selected_snippets = random.sample(top_candidates, min(top_n, len(top_candidates)))\n",
    "\n",
    "        return [(s.text, s.start) for s in selected_snippets if s.text.strip()]\n",
    "\n",
    "    except Exception as e:\n",
    "        print(f\"[ERROR] Unable to fetch transcript: {e}\")\n",
    "        return []"
   ]
  },
  {
   "cell_type": "code",
   "execution_count": 3,
   "id": "7e96be21",
   "metadata": {},
   "outputs": [
    {
     "data": {
      "text/plain": [
       "[('आवाज जंगल के सन्नाटे में मिलकर एक दूसरी', 224.4),\n",
       " ('मिनट की डरावनी खामोशी के बाद सामने एक', 879.839)]"
      ]
     },
     "execution_count": 3,
     "metadata": {},
     "output_type": "execute_result"
    }
   ],
   "source": [
    "get_transcript_snippets(video_id)"
   ]
  },
  {
   "cell_type": "code",
   "execution_count": 4,
   "id": "1ff155da",
   "metadata": {},
   "outputs": [
    {
     "data": {
      "text/plain": [
       "[('शंकर ने अपने कपड़े की गांठ कसी। विनोद ने', 265.28),\n",
       " ('हम सफल हो पाएंगे? संभावना तो बहुत कम है।', 145.92)]"
      ]
     },
     "execution_count": 4,
     "metadata": {},
     "output_type": "execute_result"
    }
   ],
   "source": [
    "get_transcript_snippets(video_id)"
   ]
  },
  {
   "cell_type": "code",
   "execution_count": null,
   "id": "a97b275e",
   "metadata": {},
   "outputs": [
    {
     "data": {
      "application/vnd.jupyter.widget-view+json": {
       "model_id": "29d2c2e2d8c44ff38f601130277cfb4d",
       "version_major": 2,
       "version_minor": 0
      },
      "text/plain": [
       "Loading checkpoint shards:   0%|          | 0/2 [00:00<?, ?it/s]"
      ]
     },
     "metadata": {},
     "output_type": "display_data"
    },
    {
     "name": "stderr",
     "output_type": "stream",
     "text": [
      "Device set to use mps\n"
     ]
    }
   ],
   "source": [
    "import random, re\n",
    "from transformers import pipeline\n",
    "from youtube_transcript_api import YouTubeTranscriptApi\n",
    "\n",
    "\n",
    "HUGGINGFACE_MODEL = \"microsoft/Phi-3-mini-4k-instruct\" #\"teknium/OpenHermes-2.5-Mistral-7B\"\n",
    "\n",
    "# Single pipeline for all tasks\n",
    "llm_pipeline = pipeline(\n",
    "    \"text-generation\",\n",
    "    model=\"microsoft/phi-3-mini-4k-instruct\",\n",
    "    device_map=\"auto\",\n",
    "    torch_dtype=\"auto\",\n",
    "    max_new_tokens=256,\n",
    "    do_sample=True,        # To enable temperature control\n",
    "    temperature=0.7        # Optional, but now recognized\n",
    ")\n",
    "\n",
    "\n",
    "\n",
    "def score_snippet_with_llm(snippet_text):\n",
    "    \"\"\"\n",
    "    Uses Mistral LLM to score how 'interesting/spooky' the text is.\n",
    "    \"\"\"\n",
    "    prompt = (\n",
    "        f\"Rate the horror intensity of this line from 1 to 10 (just return a number):\\n\"\n",
    "        f\"\\\"{snippet_text}\\\"\"\n",
    "    )\n",
    "\n",
    "    result = llm_pipeline(\n",
    "        prompt,\n",
    "        max_length=20,\n",
    "        do_sample=False,\n",
    "        temperature=0\n",
    "    )[0][\"generated_text\"]\n",
    "\n",
    "    # Extract number from the result\n",
    "    try:\n",
    "        score = int(\"\".join([c for c in result if c.isdigit()]) or \"0\")\n",
    "        return max(1, min(score, 10))  # Clamp between 1 and 10\n",
    "    except:\n",
    "        return 5  # Default neutral score\n",
    "\n",
    "\n",
    "# def get_transcript_snippets(video_id, top_n=2):\n",
    "#     \"\"\"\n",
    "#     Fetches transcript and uses LLM to pick top-N interesting snippets.\n",
    "#     \"\"\"\n",
    "#     try:\n",
    "#         yt_api = YouTubeTranscriptApi()\n",
    "#         transcript_obj = yt_api.fetch(video_id=video_id, languages=['hi', 'en'])\n",
    "#         snippets_list = transcript_obj.snippets\n",
    "\n",
    "#         if not snippets_list:\n",
    "#             return []\n",
    "\n",
    "#         # Score all snippets\n",
    "#         scored_snippets = []\n",
    "#         for s in snippets_list[:2]:\n",
    "#             score = score_snippet_with_llm(s.text)\n",
    "#             scored_snippets.append((s.text, s.start, score))\n",
    "\n",
    "#         # Sort by LLM score\n",
    "#         scored_snippets.sort(key=lambda x: x[2], reverse=True)\n",
    "\n",
    "#         # Pick top-N (randomly from top 30%)\n",
    "#         cutoff = max(1, int(len(scored_snippets) * 0.3))\n",
    "#         top_candidates = scored_snippets[:cutoff]\n",
    "#         selected = random.sample(top_candidates, min(top_n, len(top_candidates)))\n",
    "\n",
    "#         return [(text, start) for text, start, _ in selected]\n",
    "\n",
    "#     except Exception as e:\n",
    "#         print(f\"[ERROR] Unable to fetch transcript: {e}\")\n",
    "#         return []\n",
    "\n",
    "def get_transcript_snippets(video_id, llm_pipeline, max_snippets=2):\n",
    "    \"\"\"\n",
    "    Fetch transcript snippets and select the top 'max_snippets' based on LLM interest scoring.\n",
    "    \"\"\"\n",
    "    try:\n",
    "        # Fetch transcript\n",
    "        transcript = YouTubeTranscriptApi.get_transcript(video_id)\n",
    "\n",
    "        # Filter empty text\n",
    "        yt_api = YouTubeTranscriptApi()\n",
    "        transcript_obj = yt_api.fetch(video_id=video_id, languages=['hi', 'en'])\n",
    "        snippets_list = transcript_obj.snippets\n",
    "\n",
    "        if not snippets_list:\n",
    "            return []\n",
    "\n",
    "        # Batch LLM scoring\n",
    "        prompt = \"Rate each snippet from 0 to 10 based on how interesting or suspenseful it is.\\n\\n\"\n",
    "        for i, text in enumerate(snippets_list[:10]):  # Limit to first 10 to avoid long prompts\n",
    "            prompt += f\"Snippet {i+1}: {text}\\n\"\n",
    "        prompt += \"\\nReturn scores as '1: x, 2: y, ...'.\"\n",
    "\n",
    "        llm_output = llm_pipeline(prompt, max_new_tokens=64, do_sample=False)[0]['generated_text']\n",
    "        # Extract scores from LLM output\n",
    "        scores = extract_scores(llm_output)\n",
    "\n",
    "        # Pair text with scores\n",
    "        scored_snippets = [\n",
    "            (snippets_list[i], transcript[i]['start'], scores.get(i + 1, 0))\n",
    "            for i in range(min(10, len(snippets_list)))\n",
    "        ]\n",
    "\n",
    "        # Sort and select top snippets\n",
    "        top_snippets = sorted(scored_snippets, key=lambda x: x[2], reverse=True)[:max_snippets]\n",
    "        return [(text, start) for text, start, _ in top_snippets]\n",
    "\n",
    "    except Exception as e:\n",
    "        print(f\"[ERROR] Failed to fetch transcript snippets: {e}\")\n",
    "        return []\n",
    "\n",
    "\n",
    "def extract_scores(llm_output):\n",
    "    \"\"\"\n",
    "    Extract numeric scores like '1: 7, 2: 9, 3: 5' from LLM output.\n",
    "    Returns a dict {1: 7, 2: 9, ...}\n",
    "    \"\"\"\n",
    "    matches = re.findall(r'(\\d+)\\s*[:\\-]\\s*(\\d+)', llm_output)\n",
    "    return {int(k): int(v) for k, v in matches}\n",
    "\n"
   ]
  },
  {
   "cell_type": "code",
   "execution_count": 6,
   "id": "96b04a34",
   "metadata": {},
   "outputs": [
    {
     "name": "stderr",
     "output_type": "stream",
     "text": [
      "The following generation flags are not valid and may be ignored: ['temperature']. Set `TRANSFORMERS_VERBOSITY=info` for more details.\n",
      "Both `max_new_tokens` (=256) and `max_length`(=20) seem to have been set. `max_new_tokens` will take precedence. Please refer to the documentation for more information. (https://huggingface.co/docs/transformers/main/en/main_classes/text_generation)\n",
      "The following generation flags are not valid and may be ignored: ['temperature']. Set `TRANSFORMERS_VERBOSITY=info` for more details.\n",
      "Both `max_new_tokens` (=256) and `max_length`(=20) seem to have been set. `max_new_tokens` will take precedence. Please refer to the documentation for more information. (https://huggingface.co/docs/transformers/main/en/main_classes/text_generation)\n"
     ]
    },
    {
     "data": {
      "text/plain": [
       "[('नदी के किनारे जलती आंख की लपटें मंद', 4.72)]"
      ]
     },
     "execution_count": 6,
     "metadata": {},
     "output_type": "execute_result"
    }
   ],
   "source": [
    "get_transcript_snippets(video_id)"
   ]
  },
  {
   "cell_type": "code",
   "execution_count": 2,
   "id": "8dbb119d",
   "metadata": {},
   "outputs": [
    {
     "name": "stdout",
     "output_type": "stream",
     "text": [
      "Please visit this URL to authorize this application: https://accounts.google.com/o/oauth2/auth?response_type=code&client_id=205414156066-q2t4peabp7fi4u491qm38kd77qb9tiec.apps.googleusercontent.com&redirect_uri=http%3A%2F%2Flocalhost%3A8081%2F&scope=https%3A%2F%2Fwww.googleapis.com%2Fauth%2Fyoutube.force-ssl&state=pm7xx9AWguddaVNVM0a8TBWZAhK33K&access_type=offline\n"
     ]
    },
    {
     "ename": "KeyboardInterrupt",
     "evalue": "",
     "output_type": "error",
     "traceback": [
      "\u001b[0;31m---------------------------------------------------------------------------\u001b[0m",
      "\u001b[0;31mKeyboardInterrupt\u001b[0m                         Traceback (most recent call last)",
      "Cell \u001b[0;32mIn[2], line 17\u001b[0m\n\u001b[1;32m     14\u001b[0m     \u001b[38;5;28;01mreturn\u001b[39;00m build(\u001b[38;5;124m\"\u001b[39m\u001b[38;5;124myoutube\u001b[39m\u001b[38;5;124m\"\u001b[39m, \u001b[38;5;124m\"\u001b[39m\u001b[38;5;124mv3\u001b[39m\u001b[38;5;124m\"\u001b[39m, credentials\u001b[38;5;241m=\u001b[39mcredentials)\n\u001b[1;32m     16\u001b[0m \u001b[38;5;28;01mif\u001b[39;00m \u001b[38;5;18m__name__\u001b[39m \u001b[38;5;241m==\u001b[39m \u001b[38;5;124m\"\u001b[39m\u001b[38;5;124m__main__\u001b[39m\u001b[38;5;124m\"\u001b[39m:\n\u001b[0;32m---> 17\u001b[0m     youtube \u001b[38;5;241m=\u001b[39m \u001b[43mget_authenticated_service\u001b[49m\u001b[43m(\u001b[49m\u001b[43m)\u001b[49m\n\u001b[1;32m     18\u001b[0m     \u001b[38;5;28mprint\u001b[39m(\u001b[38;5;124m\"\u001b[39m\u001b[38;5;124mAuthentication successful!\u001b[39m\u001b[38;5;124m\"\u001b[39m)\n",
      "Cell \u001b[0;32mIn[2], line 11\u001b[0m, in \u001b[0;36mget_authenticated_service\u001b[0;34m()\u001b[0m\n\u001b[1;32m      8\u001b[0m \u001b[38;5;28;01mdef\u001b[39;00m \u001b[38;5;21mget_authenticated_service\u001b[39m():\n\u001b[1;32m      9\u001b[0m     flow \u001b[38;5;241m=\u001b[39m InstalledAppFlow\u001b[38;5;241m.\u001b[39mfrom_client_secrets_file(\u001b[38;5;124m\"\u001b[39m\u001b[38;5;124mclient_secret_205414156066-q2t4peabp7fi4u491qm38kd77qb9tiec.apps.googleusercontent.com.json\u001b[39m\u001b[38;5;124m\"\u001b[39m,\n\u001b[1;32m     10\u001b[0m                                                       SCOPES)\n\u001b[0;32m---> 11\u001b[0m     credentials \u001b[38;5;241m=\u001b[39m \u001b[43mflow\u001b[49m\u001b[38;5;241;43m.\u001b[39;49m\u001b[43mrun_local_server\u001b[49m\u001b[43m(\u001b[49m\u001b[43mport\u001b[49m\u001b[38;5;241;43m=\u001b[39;49m\u001b[38;5;241;43m8081\u001b[39;49m\u001b[43m)\u001b[49m  \u001b[38;5;66;03m# Opens a browser for login\u001b[39;00m\n\u001b[1;32m     12\u001b[0m     \u001b[38;5;28;01mwith\u001b[39;00m \u001b[38;5;28mopen\u001b[39m(\u001b[38;5;124m\"\u001b[39m\u001b[38;5;124mtoken.json\u001b[39m\u001b[38;5;124m\"\u001b[39m, \u001b[38;5;124m\"\u001b[39m\u001b[38;5;124mw\u001b[39m\u001b[38;5;124m\"\u001b[39m) \u001b[38;5;28;01mas\u001b[39;00m token:\n\u001b[1;32m     13\u001b[0m         token\u001b[38;5;241m.\u001b[39mwrite(credentials\u001b[38;5;241m.\u001b[39mto_json())\n",
      "File \u001b[0;32m~/workstuffs/env_exp/lib/python3.11/site-packages/google_auth_oauthlib/flow.py:453\u001b[0m, in \u001b[0;36mInstalledAppFlow.run_local_server\u001b[0;34m(self, host, bind_addr, port, authorization_prompt_message, success_message, open_browser, redirect_uri_trailing_slash, timeout_seconds, token_audience, browser, **kwargs)\u001b[0m\n\u001b[1;32m    450\u001b[0m     \u001b[38;5;28mprint\u001b[39m(authorization_prompt_message\u001b[38;5;241m.\u001b[39mformat(url\u001b[38;5;241m=\u001b[39mauth_url))\n\u001b[1;32m    452\u001b[0m local_server\u001b[38;5;241m.\u001b[39mtimeout \u001b[38;5;241m=\u001b[39m timeout_seconds\n\u001b[0;32m--> 453\u001b[0m \u001b[43mlocal_server\u001b[49m\u001b[38;5;241;43m.\u001b[39;49m\u001b[43mhandle_request\u001b[49m\u001b[43m(\u001b[49m\u001b[43m)\u001b[49m\n\u001b[1;32m    455\u001b[0m \u001b[38;5;66;03m# Note: using https here because oauthlib is very picky that\u001b[39;00m\n\u001b[1;32m    456\u001b[0m \u001b[38;5;66;03m# OAuth 2.0 should only occur over https.\u001b[39;00m\n\u001b[1;32m    457\u001b[0m authorization_response \u001b[38;5;241m=\u001b[39m wsgi_app\u001b[38;5;241m.\u001b[39mlast_request_uri\u001b[38;5;241m.\u001b[39mreplace(\u001b[38;5;124m\"\u001b[39m\u001b[38;5;124mhttp\u001b[39m\u001b[38;5;124m\"\u001b[39m, \u001b[38;5;124m\"\u001b[39m\u001b[38;5;124mhttps\u001b[39m\u001b[38;5;124m\"\u001b[39m)\n",
      "File \u001b[0;32m/opt/homebrew/Cellar/python@3.11/3.11.12/Frameworks/Python.framework/Versions/3.11/lib/python3.11/socketserver.py:295\u001b[0m, in \u001b[0;36mBaseServer.handle_request\u001b[0;34m(self)\u001b[0m\n\u001b[1;32m    292\u001b[0m selector\u001b[38;5;241m.\u001b[39mregister(\u001b[38;5;28mself\u001b[39m, selectors\u001b[38;5;241m.\u001b[39mEVENT_READ)\n\u001b[1;32m    294\u001b[0m \u001b[38;5;28;01mwhile\u001b[39;00m \u001b[38;5;28;01mTrue\u001b[39;00m:\n\u001b[0;32m--> 295\u001b[0m     ready \u001b[38;5;241m=\u001b[39m \u001b[43mselector\u001b[49m\u001b[38;5;241;43m.\u001b[39;49m\u001b[43mselect\u001b[49m\u001b[43m(\u001b[49m\u001b[43mtimeout\u001b[49m\u001b[43m)\u001b[49m\n\u001b[1;32m    296\u001b[0m     \u001b[38;5;28;01mif\u001b[39;00m ready:\n\u001b[1;32m    297\u001b[0m         \u001b[38;5;28;01mreturn\u001b[39;00m \u001b[38;5;28mself\u001b[39m\u001b[38;5;241m.\u001b[39m_handle_request_noblock()\n",
      "File \u001b[0;32m/opt/homebrew/Cellar/python@3.11/3.11.12/Frameworks/Python.framework/Versions/3.11/lib/python3.11/selectors.py:415\u001b[0m, in \u001b[0;36m_PollLikeSelector.select\u001b[0;34m(self, timeout)\u001b[0m\n\u001b[1;32m    413\u001b[0m ready \u001b[38;5;241m=\u001b[39m []\n\u001b[1;32m    414\u001b[0m \u001b[38;5;28;01mtry\u001b[39;00m:\n\u001b[0;32m--> 415\u001b[0m     fd_event_list \u001b[38;5;241m=\u001b[39m \u001b[38;5;28;43mself\u001b[39;49m\u001b[38;5;241;43m.\u001b[39;49m\u001b[43m_selector\u001b[49m\u001b[38;5;241;43m.\u001b[39;49m\u001b[43mpoll\u001b[49m\u001b[43m(\u001b[49m\u001b[43mtimeout\u001b[49m\u001b[43m)\u001b[49m\n\u001b[1;32m    416\u001b[0m \u001b[38;5;28;01mexcept\u001b[39;00m \u001b[38;5;167;01mInterruptedError\u001b[39;00m:\n\u001b[1;32m    417\u001b[0m     \u001b[38;5;28;01mreturn\u001b[39;00m ready\n",
      "\u001b[0;31mKeyboardInterrupt\u001b[0m: "
     ]
    }
   ],
   "source": [
    "import os\n",
    "from google_auth_oauthlib.flow import InstalledAppFlow\n",
    "from googleapiclient.discovery import build\n",
    "\n",
    "# OAuth scopes for YouTube\n",
    "SCOPES = [\"https://www.googleapis.com/auth/youtube.force-ssl\"]\n",
    "\n",
    "def get_authenticated_service():\n",
    "    flow = InstalledAppFlow.from_client_secrets_file(\"client_secret_205414156066-q2t4peabp7fi4u491qm38kd77qb9tiec.apps.googleusercontent.com.json\",\n",
    "                                                      SCOPES)\n",
    "    credentials = flow.run_local_server(port=8081)  # Opens a browser for login\n",
    "    with open(\"token.json\", \"w\") as token:\n",
    "        token.write(credentials.to_json())\n",
    "    return build(\"youtube\", \"v3\", credentials=credentials)\n",
    "\n",
    "if __name__ == \"__main__\":\n",
    "    youtube = get_authenticated_service()\n",
    "    print(\"Authentication successful!\")"
   ]
  },
  {
   "cell_type": "code",
   "execution_count": null,
   "id": "10bb62bd",
   "metadata": {},
   "outputs": [],
   "source": [
    "from google.oauth2.credentials import Credentials\n",
    "from googleapiclient.discovery import build\n",
    "\n",
    "def post_comment(video_id, comment_text):\n",
    "    creds = Credentials.from_authorized_user_file(\"token.json\", scopes=SCOPES)\n",
    "    youtube = build(\"youtube\", \"v3\", credentials=creds)\n",
    "\n",
    "    request = youtube.commentThreads().insert(\n",
    "        part=\"snippet\",\n",
    "        body={\n",
    "            \"snippet\": {\n",
    "                \"videoId\": video_id,\n",
    "                \"topLevelComment\": {\n",
    "                    \"snippet\": {\"textOriginal\": comment_text}\n",
    "                }\n",
    "            }\n",
    "        }\n",
    "    )\n",
    "    response = request.execute()\n",
    "    print(\"Comment posted:\", response[\"snippet\"][\"topLevelComment\"][\"snippet\"][\"textDisplay\"])\n",
    "    return response"
   ]
  },
  {
   "cell_type": "code",
   "execution_count": 8,
   "id": "df832bca",
   "metadata": {},
   "outputs": [
    {
     "ename": "ValueError",
     "evalue": "Authorized user info was not in the expected format, missing fields client_secret, client_id, refresh_token.",
     "output_type": "error",
     "traceback": [
      "\u001b[0;31m---------------------------------------------------------------------------\u001b[0m",
      "\u001b[0;31mValueError\u001b[0m                                Traceback (most recent call last)",
      "Cell \u001b[0;32mIn[8], line 1\u001b[0m\n\u001b[0;32m----> 1\u001b[0m \u001b[43mpost_comment\u001b[49m\u001b[43m(\u001b[49m\u001b[38;5;124;43m\"\u001b[39;49m\u001b[38;5;124;43mC3VtQX8frao\u001b[39;49m\u001b[38;5;124;43m\"\u001b[39;49m\u001b[43m,\u001b[49m\u001b[43m \u001b[49m\u001b[38;5;124;43m\"\u001b[39;49m\u001b[38;5;124;43m💀💀\u001b[39;49m\u001b[38;5;124;43m\"\u001b[39;49m\u001b[43m)\u001b[49m\n",
      "Cell \u001b[0;32mIn[7], line 5\u001b[0m, in \u001b[0;36mpost_comment\u001b[0;34m(video_id, comment_text)\u001b[0m\n\u001b[1;32m      4\u001b[0m \u001b[38;5;28;01mdef\u001b[39;00m \u001b[38;5;21mpost_comment\u001b[39m(video_id, comment_text):\n\u001b[0;32m----> 5\u001b[0m     creds \u001b[38;5;241m=\u001b[39m \u001b[43mCredentials\u001b[49m\u001b[38;5;241;43m.\u001b[39;49m\u001b[43mfrom_authorized_user_file\u001b[49m\u001b[43m(\u001b[49m\u001b[38;5;124;43m\"\u001b[39;49m\u001b[38;5;124;43mclient_secret_205414156066-q2t4peabp7fi4u491qm38kd77qb9tiec.apps.googleusercontent.com.json\u001b[39;49m\u001b[38;5;124;43m\"\u001b[39;49m\u001b[43m,\u001b[49m\u001b[43m \u001b[49m\n\u001b[1;32m      6\u001b[0m \u001b[43m                                                  \u001b[49m\u001b[43m[\u001b[49m\u001b[38;5;124;43m\"\u001b[39;49m\u001b[38;5;124;43mhttps://www.googleapis.com/auth/youtube.force-ssl\u001b[39;49m\u001b[38;5;124;43m\"\u001b[39;49m\u001b[43m]\u001b[49m\u001b[43m)\u001b[49m\n\u001b[1;32m      7\u001b[0m     youtube \u001b[38;5;241m=\u001b[39m build(\u001b[38;5;124m\"\u001b[39m\u001b[38;5;124myoutube\u001b[39m\u001b[38;5;124m\"\u001b[39m, \u001b[38;5;124m\"\u001b[39m\u001b[38;5;124mv3\u001b[39m\u001b[38;5;124m\"\u001b[39m, credentials\u001b[38;5;241m=\u001b[39mcreds)\n\u001b[1;32m      9\u001b[0m     request \u001b[38;5;241m=\u001b[39m youtube\u001b[38;5;241m.\u001b[39mcommentThreads()\u001b[38;5;241m.\u001b[39minsert(\n\u001b[1;32m     10\u001b[0m         part\u001b[38;5;241m=\u001b[39m\u001b[38;5;124m\"\u001b[39m\u001b[38;5;124msnippet\u001b[39m\u001b[38;5;124m\"\u001b[39m,\n\u001b[1;32m     11\u001b[0m         body\u001b[38;5;241m=\u001b[39m{\n\u001b[0;32m   (...)\u001b[0m\n\u001b[1;32m     18\u001b[0m         }\n\u001b[1;32m     19\u001b[0m     )\n",
      "File \u001b[0;32m~/workstuffs/env_exp/lib/python3.11/site-packages/google/oauth2/credentials.py:539\u001b[0m, in \u001b[0;36mCredentials.from_authorized_user_file\u001b[0;34m(cls, filename, scopes)\u001b[0m\n\u001b[1;32m    537\u001b[0m \u001b[38;5;28;01mwith\u001b[39;00m io\u001b[38;5;241m.\u001b[39mopen(filename, \u001b[38;5;124m\"\u001b[39m\u001b[38;5;124mr\u001b[39m\u001b[38;5;124m\"\u001b[39m, encoding\u001b[38;5;241m=\u001b[39m\u001b[38;5;124m\"\u001b[39m\u001b[38;5;124mutf-8\u001b[39m\u001b[38;5;124m\"\u001b[39m) \u001b[38;5;28;01mas\u001b[39;00m json_file:\n\u001b[1;32m    538\u001b[0m     data \u001b[38;5;241m=\u001b[39m json\u001b[38;5;241m.\u001b[39mload(json_file)\n\u001b[0;32m--> 539\u001b[0m     \u001b[38;5;28;01mreturn\u001b[39;00m \u001b[38;5;28;43mcls\u001b[39;49m\u001b[38;5;241;43m.\u001b[39;49m\u001b[43mfrom_authorized_user_info\u001b[49m\u001b[43m(\u001b[49m\u001b[43mdata\u001b[49m\u001b[43m,\u001b[49m\u001b[43m \u001b[49m\u001b[43mscopes\u001b[49m\u001b[43m)\u001b[49m\n",
      "File \u001b[0;32m~/workstuffs/env_exp/lib/python3.11/site-packages/google/oauth2/credentials.py:486\u001b[0m, in \u001b[0;36mCredentials.from_authorized_user_info\u001b[0;34m(cls, info, scopes)\u001b[0m\n\u001b[1;32m    483\u001b[0m missing \u001b[38;5;241m=\u001b[39m keys_needed\u001b[38;5;241m.\u001b[39mdifference(info\u001b[38;5;241m.\u001b[39mkeys())\n\u001b[1;32m    485\u001b[0m \u001b[38;5;28;01mif\u001b[39;00m missing:\n\u001b[0;32m--> 486\u001b[0m     \u001b[38;5;28;01mraise\u001b[39;00m \u001b[38;5;167;01mValueError\u001b[39;00m(\n\u001b[1;32m    487\u001b[0m         \u001b[38;5;124m\"\u001b[39m\u001b[38;5;124mAuthorized user info was not in the expected format, missing \u001b[39m\u001b[38;5;124m\"\u001b[39m\n\u001b[1;32m    488\u001b[0m         \u001b[38;5;124m\"\u001b[39m\u001b[38;5;124mfields \u001b[39m\u001b[38;5;132;01m{}\u001b[39;00m\u001b[38;5;124m.\u001b[39m\u001b[38;5;124m\"\u001b[39m\u001b[38;5;241m.\u001b[39mformat(\u001b[38;5;124m\"\u001b[39m\u001b[38;5;124m, \u001b[39m\u001b[38;5;124m\"\u001b[39m\u001b[38;5;241m.\u001b[39mjoin(missing))\n\u001b[1;32m    489\u001b[0m     )\n\u001b[1;32m    491\u001b[0m \u001b[38;5;66;03m# access token expiry (datetime obj); auto-expire if not saved\u001b[39;00m\n\u001b[1;32m    492\u001b[0m expiry \u001b[38;5;241m=\u001b[39m info\u001b[38;5;241m.\u001b[39mget(\u001b[38;5;124m\"\u001b[39m\u001b[38;5;124mexpiry\u001b[39m\u001b[38;5;124m\"\u001b[39m)\n",
      "\u001b[0;31mValueError\u001b[0m: Authorized user info was not in the expected format, missing fields client_secret, client_id, refresh_token."
     ]
    }
   ],
   "source": [
    "post_comment(\"C3VtQX8frao\", \"💀💀\")"
   ]
  },
  {
   "cell_type": "code",
   "execution_count": null,
   "id": "718bf2bf",
   "metadata": {},
   "outputs": [],
   "source": []
  }
 ],
 "metadata": {
  "kernelspec": {
   "display_name": "env_exp",
   "language": "python",
   "name": "python3"
  },
  "language_info": {
   "codemirror_mode": {
    "name": "ipython",
    "version": 3
   },
   "file_extension": ".py",
   "mimetype": "text/x-python",
   "name": "python",
   "nbconvert_exporter": "python",
   "pygments_lexer": "ipython3",
   "version": "3.11.12"
  }
 },
 "nbformat": 4,
 "nbformat_minor": 5
}
